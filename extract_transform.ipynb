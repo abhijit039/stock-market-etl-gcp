{
 "cells": [
  {
   "cell_type": "code",
   "execution_count": 24,
   "id": "02beb4ea-f6a5-471b-9348-dd7914128628",
   "metadata": {},
   "outputs": [],
   "source": [
    "import yfinance as yf\n",
    "import pandas as pd\n"
   ]
  },
  {
   "cell_type": "code",
   "execution_count": 25,
   "id": "dc04e942-d632-40e8-b9f3-dc8900392ed8",
   "metadata": {},
   "outputs": [],
   "source": [
    "# --- Step 1: Define the stock ticker and date range ---\n",
    "# We're using Reliance Industries from the National Stock Exchange (NSE) in India.\n",
    "# The start and end dates are chosen based on your previous attempts.\n",
    "ticker = \"RELIANCE.NS\"\n",
    "start_date = \"2024-07-29\"\n",
    "end_date = \"2025-07-29\""
   ]
  },
  {
   "cell_type": "code",
   "execution_count": 26,
   "id": "6bf32add-5c8a-44c4-8fa4-48ddb015bd6d",
   "metadata": {},
   "outputs": [
    {
     "name": "stdout",
     "output_type": "stream",
     "text": [
      "Attempting to download data for RELIANCE.NS from 2024-07-29 to 2025-07-29...\n",
      "\n"
     ]
    }
   ],
   "source": [
    "print(f\"Attempting to download data for {ticker} from {start_date} to {end_date}...\\n\")"
   ]
  },
  {
   "cell_type": "code",
   "execution_count": 28,
   "id": "40dd5744-76ec-446f-b835-016509135a91",
   "metadata": {},
   "outputs": [
    {
     "name": "stderr",
     "output_type": "stream",
     "text": [
      "[*********************100%***********************]  1 of 1 completed\n"
     ]
    }
   ],
   "source": [
    "try:\n",
    "    data = yf.download(ticker, start=start_date, end=end_date, auto_adjust=True)\n",
    "except Exception as e:\n",
    "    print(f\"Error downloading data: {e}\")\n",
    "    print(\"Please check your internet connection or if the ticker symbol is correct.\")\n",
    "    exit()"
   ]
  },
  {
   "cell_type": "code",
   "execution_count": 31,
   "id": "dc287eec-a52f-4fc2-911d-0fd1cd4e6bf1",
   "metadata": {},
   "outputs": [
    {
     "name": "stdout",
     "output_type": "stream",
     "text": [
      "Data downloaded successfully and is not empty.\n"
     ]
    }
   ],
   "source": [
    "# --- Step 3: Basic data validation\n",
    "# Check if the DataFrame is empty.\n",
    "if data.empty:\n",
    "    print(f\"No data found for {ticker} in the specified date range. Please check dates or ticker.\")\n",
    "    exit()\n",
    "else:\n",
    "    print(\"Data downloaded successfully and is not empty.\")"
   ]
  },
  {
   "cell_type": "code",
   "execution_count": 32,
   "id": "16cfed63-b97d-4c58-9248-7fb94680b3ec",
   "metadata": {},
   "outputs": [],
   "source": [
    "data = data.reset_index(inplace=False)"
   ]
  },
  {
   "cell_type": "code",
   "execution_count": 33,
   "id": "906e4b74-35d3-4efe-a3fd-4238ccd07144",
   "metadata": {},
   "outputs": [],
   "source": [
    "cleaned_column_names = []\n",
    "for col in data.columns:\n",
    "    if isinstance(col, tuple):\n",
    "        # If it's a tuple (from a MultiIndex, e.g., ('Close', 'RELIANCE.NS'))\n",
    "        # We take the first element (the metric name), convert to lowercase, and replace spaces with underscores.\n",
    "        cleaned_column_names.append(col[0].lower().replace(\" \", \"_\"))\n",
    "    else:\n",
    "        # If it's a simple string (like 'Date' after reset_index())\n",
    "        # We convert it to lowercase and replace spaces with underscores.\n",
    "        cleaned_column_names.append(str(col).lower().replace(\" \", \"_\"))"
   ]
  },
  {
   "cell_type": "code",
   "execution_count": 34,
   "id": "95309cdb-3840-44af-bfd0-df50f0f95fa9",
   "metadata": {},
   "outputs": [],
   "source": [
    "data.columns = cleaned_column_names"
   ]
  },
  {
   "cell_type": "code",
   "execution_count": 35,
   "id": "386192d3-33c1-4c9e-94b1-a90eb9da1a6d",
   "metadata": {},
   "outputs": [],
   "source": [
    "if 'date' in data.columns:\n",
    "    cols = ['date'] + [col for col in data.columns if col != 'date']\n",
    "    data = data[cols]"
   ]
  },
  {
   "cell_type": "code",
   "execution_count": 36,
   "id": "e4093f34-2164-4078-841c-c744245a2dc4",
   "metadata": {},
   "outputs": [
    {
     "name": "stdout",
     "output_type": "stream",
     "text": [
      "\n",
      "Cleaned DataFrame Head:\n",
      "        date        close         high          low         open    volume\n",
      "0 2024-07-29  1514.958252  1522.333246  1506.661460  1506.835795   7538550\n",
      "1 2024-07-30  1508.031738  1519.841631  1504.892369  1511.893631   8228208\n",
      "2 2024-07-31  1500.332886  1505.340791  1496.072322  1498.912657  10057346\n",
      "3 2024-08-01  1510.174561  1512.865379  1499.211768  1506.885674  10764222\n",
      "4 2024-08-02  1494.253418  1504.219593  1488.223955  1499.909271  10268248\n"
     ]
    }
   ],
   "source": [
    "#Display the first few rows of the cleaned DataFrame ---\n",
    "print(\"\\nCleaned DataFrame Head:\")\n",
    "print(data.head())"
   ]
  },
  {
   "cell_type": "code",
   "execution_count": 37,
   "id": "290c7532-4f20-4ad1-9d71-2a1a8cd66e2d",
   "metadata": {},
   "outputs": [
    {
     "name": "stdout",
     "output_type": "stream",
     "text": [
      "\n",
      "DataFrame Info:\n",
      "<class 'pandas.core.frame.DataFrame'>\n",
      "RangeIndex: 250 entries, 0 to 249\n",
      "Data columns (total 6 columns):\n",
      " #   Column  Non-Null Count  Dtype         \n",
      "---  ------  --------------  -----         \n",
      " 0   date    250 non-null    datetime64[ns]\n",
      " 1   close   250 non-null    float64       \n",
      " 2   high    250 non-null    float64       \n",
      " 3   low     250 non-null    float64       \n",
      " 4   open    250 non-null    float64       \n",
      " 5   volume  250 non-null    int64         \n",
      "dtypes: datetime64[ns](1), float64(4), int64(1)\n",
      "memory usage: 11.8 KB\n"
     ]
    }
   ],
   "source": [
    "# Display DataFrame Info for a quick overview ---\n",
    "print(\"\\nDataFrame Info:\")\n",
    "data.info()"
   ]
  },
  {
   "cell_type": "code",
   "execution_count": 38,
   "id": "94b8ba2e-6f8d-41e0-8f76-791dacb8ae10",
   "metadata": {},
   "outputs": [
    {
     "name": "stdout",
     "output_type": "stream",
     "text": [
      "\n",
      "DataFrame Description:\n",
      "                             date        close         high          low  \\\n",
      "count                         250   250.000000   250.000000   250.000000   \n",
      "mean   2025-01-26 03:44:38.400000  1355.371805  1367.701548  1344.515035   \n",
      "min           2024-07-29 00:00:00  1161.900024  1171.250000  1114.849976   \n",
      "25%           2024-10-25 18:00:00  1253.925018  1269.950012  1243.862488   \n",
      "50%           2025-01-25 12:00:00  1343.625000  1360.737488  1334.000000   \n",
      "75%           2025-04-29 18:00:00  1455.313324  1468.454379  1445.731262   \n",
      "max           2025-07-28 00:00:00  1541.500000  1551.000000  1530.199951   \n",
      "std                           NaN   106.492419   106.714501   107.466501   \n",
      "\n",
      "              open        volume  \n",
      "count   250.000000  2.500000e+02  \n",
      "mean   1356.301661  1.307233e+07  \n",
      "min    1132.199951  0.000000e+00  \n",
      "25%    1258.225006  8.731582e+06  \n",
      "50%    1340.000000  1.126159e+07  \n",
      "75%    1456.702260  1.593660e+07  \n",
      "max    1536.699951  4.162073e+07  \n",
      "std     107.323274  6.505940e+06  \n"
     ]
    }
   ],
   "source": [
    "#Display DataFrame Description for summary statistics ---\n",
    "print(\"\\nDataFrame Description:\")\n",
    "print(data.describe())"
   ]
  },
  {
   "cell_type": "code",
   "execution_count": 40,
   "id": "94e73946-8b98-4b1d-9274-d859c47e391e",
   "metadata": {},
   "outputs": [
    {
     "name": "stdout",
     "output_type": "stream",
     "text": [
      "\n",
      "✅ Data saved to 'reliance_stock.csv'\n"
     ]
    }
   ],
   "source": [
    "# Save to CSV ---\n",
    "data.to_csv(\"reliance_stock.csv\", index=False)\n",
    "print(\"\\n✅ Data saved to 'reliance_stock.csv'\")"
   ]
  },
  {
   "cell_type": "code",
   "execution_count": null,
   "id": "841a28e0-ba37-4b64-980f-3010a12952d6",
   "metadata": {},
   "outputs": [],
   "source": []
  }
 ],
 "metadata": {
  "kernelspec": {
   "display_name": "Python 3 (ipykernel)",
   "language": "python",
   "name": "python3"
  },
  "language_info": {
   "codemirror_mode": {
    "name": "ipython",
    "version": 3
   },
   "file_extension": ".py",
   "mimetype": "text/x-python",
   "name": "python",
   "nbconvert_exporter": "python",
   "pygments_lexer": "ipython3",
   "version": "3.11.3"
  }
 },
 "nbformat": 4,
 "nbformat_minor": 5
}
