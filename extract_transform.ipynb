{
 "cells": [
  {
   "cell_type": "code",
   "execution_count": 3,
   "id": "7a286efd-785b-4ccc-8d9f-36b8ee172296",
   "metadata": {},
   "outputs": [],
   "source": [
    "import yfinance as yf\n",
    "import pandas as pd"
   ]
  },
  {
   "cell_type": "code",
   "execution_count": 4,
   "id": "1ba8464c-7f38-422a-ac4c-74cdaf1f1f2b",
   "metadata": {},
   "outputs": [
    {
     "name": "stderr",
     "output_type": "stream",
     "text": [
      "C:\\Users\\abhij\\AppData\\Local\\Temp\\ipykernel_21348\\726994340.py:2: FutureWarning: YF.download() has changed argument auto_adjust default to True\n",
      "  data = yf.download(\"RELIANCE.NS\", start=\"2023-01-01\", end=\"2025-01-01\")\n",
      "[*********************100%***********************]  1 of 1 completed\n"
     ]
    }
   ],
   "source": [
    "# Step 1: Extract\n",
    "data = yf.download(\"RELIANCE.NS\", start=\"2023-01-01\", end=\"2025-01-01\")"
   ]
  },
  {
   "cell_type": "code",
   "execution_count": 27,
   "id": "a58e5481-77d0-4d5b-a9c3-d860a86b747a",
   "metadata": {},
   "outputs": [],
   "source": [
    "if isinstance(data.columns, pd.MultiIndex):\n",
    "    data.columns = [col[0].lower().replace(\" \", \"_\") for col in data.columns]\n",
    "else:\n",
    "    data.columns = [col.lower().replace(\" \", \"_\") for col in data.columns]"
   ]
  },
  {
   "cell_type": "code",
   "execution_count": 28,
   "id": "de7eebc1-a7ca-41be-976e-1c01df9cb31a",
   "metadata": {},
   "outputs": [],
   "source": [
    "#Reset index only if it's not already reset\n",
    "if data.index.name is not None or data.index.names != [None]:\n",
    "    data.reset_index(inplace=True)"
   ]
  },
  {
   "cell_type": "code",
   "execution_count": 31,
   "id": "a45497dd-74aa-432c-ae4e-0d3e6c616a52",
   "metadata": {},
   "outputs": [],
   "source": [
    "#Select only necessary columns\n",
    "expected_columns = ['date', 'open', 'high', 'low', 'close', 'adj_close', 'volume']\n",
    "available_columns = [col for col in expected_columns if col in data.columns]\n",
    "data = data[available_columns].copy()"
   ]
  },
  {
   "cell_type": "code",
   "execution_count": 32,
   "id": "d4b481f4-e0a5-480c-9d0b-f75d26858b1d",
   "metadata": {},
   "outputs": [],
   "source": [
    "#Drop rows with missing values\n",
    "data.dropna(inplace=True)"
   ]
  },
  {
   "cell_type": "code",
   "execution_count": 37,
   "id": "2b52f816-3cff-42d6-be26-8c366dd63261",
   "metadata": {},
   "outputs": [
    {
     "name": "stdout",
     "output_type": "stream",
     "text": [
      "Data extracted, transformed and saved as reliance_stock.csv\n",
      "Empty DataFrame\n",
      "Columns: []\n",
      "Index: [0, 1, 2, 3, 4]\n"
     ]
    }
   ],
   "source": [
    "# Show sample data\n",
    "print(\"Data extracted, transformed and saved as reliance_stock.csv\")\n",
    "print(data.head())"
   ]
  },
  {
   "cell_type": "code",
   "execution_count": 34,
   "id": "05024690-f561-40c5-ae2d-b5d349df4feb",
   "metadata": {},
   "outputs": [
    {
     "name": "stdout",
     "output_type": "stream",
     "text": [
      "Empty DataFrame\n",
      "Columns: []\n",
      "Index: [486, 487, 488, 489, 490]\n"
     ]
    }
   ],
   "source": [
    "print(data.tail())"
   ]
  },
  {
   "cell_type": "code",
   "execution_count": 38,
   "id": "ed3db52f-87b3-4fca-a374-0a8a67cdf1e4",
   "metadata": {},
   "outputs": [
    {
     "name": "stdout",
     "output_type": "stream",
     "text": [
      "Data extracted, cleaned, and saved as reliance_stock.csv\n"
     ]
    }
   ],
   "source": [
    "#save\n",
    "data.to_csv(\"reliance_stock.csv\", index=False)\n",
    "print(\"Data extracted, cleaned, and saved as reliance_stock.csv\")"
   ]
  },
  {
   "cell_type": "code",
   "execution_count": null,
   "id": "f26db7f4-ec87-44b1-bc0d-c7df36e9eeeb",
   "metadata": {},
   "outputs": [],
   "source": []
  }
 ],
 "metadata": {
  "kernelspec": {
   "display_name": "Python 3 (ipykernel)",
   "language": "python",
   "name": "python3"
  },
  "language_info": {
   "codemirror_mode": {
    "name": "ipython",
    "version": 3
   },
   "file_extension": ".py",
   "mimetype": "text/x-python",
   "name": "python",
   "nbconvert_exporter": "python",
   "pygments_lexer": "ipython3",
   "version": "3.11.3"
  }
 },
 "nbformat": 4,
 "nbformat_minor": 5
}
